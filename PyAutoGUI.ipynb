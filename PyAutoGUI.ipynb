{
 "cells": [
  {
   "cell_type": "code",
   "execution_count": null,
   "id": "50e40547",
   "metadata": {
    "vscode": {
     "languageId": "plaintext"
    }
   },
   "outputs": [],
   "source": [
    "import pyautogui\n",
    "import time\n",
    "from datetime import datetime\n",
    "\n",
    "# QUAN TRỌNG: Tắt fail-safe nếu muốn (không khuyến khích)\n",
    "# pyautogui.FAILSAFE = True  # Giữ = True để có thể dừng bằng cách đưa chuột vào góc màn hình\n",
    "\n",
    "print(\"=== DEMO: LLM ĐIỀU KHIỂN MÁY TÍNH ===\\n\")\n",
    "\n",
    "# 1. LẤY THÔNG TIN MÀN HÌNH (Monitor)\n",
    "print(\"1. MONITOR - Thu thập thông tin màn hình:\")\n",
    "screen_width, screen_height = pyautogui.size()\n",
    "print(f\"   - Kích thước màn hình: {screen_width}x{screen_height}\")\n",
    "\n",
    "mouse_x, mouse_y = pyautogui.position()\n",
    "print(f\"   - Vị trí chuột hiện tại: ({mouse_x}, {mouse_y})\\n\")\n",
    "\n",
    "time.sleep(1)\n",
    "\n",
    "# 2. CHỤP MÀN HÌNH (Screenshot)\n",
    "print(\"2. SCREENSHOT - Chụp màn hình:\")\n",
    "screenshot = pyautogui.screenshot()\n",
    "screenshot_file = f'screenshot_{datetime.now().strftime(\"%Y%m%d_%H%M%S\")}.png'\n",
    "screenshot.save(screenshot_file)\n",
    "print(f\"   ✓ Đã lưu: {screenshot_file}\")\n",
    "print(\"   → LLM sẽ nhận ảnh này để phân tích\\n\")\n",
    "\n",
    "time.sleep(1)\n",
    "\n",
    "# 3. ĐIỀU KHIỂN CHUỘT (Mouse Control)\n",
    "print(\"3. ĐIỀU KHIỂN CHUỘT:\")\n",
    "print(\"   → Di chuyển chuột trong 3 giây...\")\n",
    "\n",
    "# Di chuyển mượt mà đến tâm màn hình\n",
    "center_x, center_y = screen_width // 2, screen_height // 2\n",
    "pyautogui.moveTo(center_x, center_y, duration=1.5, tween=pyautogui.easeInOutQuad)\n",
    "print(f\"   ✓ Đã di chuyển đến tâm màn hình: ({center_x}, {center_y})\")\n",
    "\n",
    "# Vẽ hình vuông nhỏ (giống demo trong tài liệu)\n",
    "print(\"   → Vẽ hình vuông bằng cách drag chuột...\")\n",
    "distance = 100\n",
    "pyautogui.drag(distance, 0, duration=0.3)  # Phải\n",
    "pyautogui.drag(0, distance, duration=0.3)  # Xuống\n",
    "pyautogui.drag(-distance, 0, duration=0.3) # Trái\n",
    "pyautogui.drag(0, -distance, duration=0.3) # Lên\n",
    "print(\"   ✓ Hoàn thành!\\n\")\n",
    "\n",
    "time.sleep(1)\n",
    "\n",
    "# 4. ĐIỀU KHIỂN BÀN PHÍM (Keyboard Control)\n",
    "print(\"4. ĐIỀU KHIỂN BÀN PHÍM:\")\n",
    "print(\"   → Sẽ mở Notepad và gõ văn bản sau 3 giây...\")\n",
    "print(\"   (Hãy đảm bảo không có cửa sổ nào đang mở)\")\n",
    "\n",
    "time.sleep(3)\n",
    "\n",
    "# Mở Notepad (Windows) - Thay đổi nếu dùng macOS/Linux\n",
    "pyautogui.hotkey('win', 'r')  # Mở Run dialog\n",
    "time.sleep(0.5)\n",
    "pyautogui.write('notepad', interval=0.1)\n",
    "pyautogui.press('enter')\n",
    "time.sleep(1)\n",
    "\n",
    "# Gõ văn bản\n",
    "print(\"   → Đang gõ văn bản...\")\n",
    "pyautogui.write('Hello! LLM dang dieu khien may tinh cua ban.', interval=0.05)\n",
    "pyautogui.press('enter')\n",
    "pyautogui.press('enter')\n",
    "pyautogui.write('Timestamp: ' + datetime.now().strftime(\"%H:%M:%S\"), interval=0.05)\n",
    "print(\"   ✓ Đã gõ xong!\\n\")\n",
    "\n",
    "time.sleep(1)\n",
    "\n",
    "# 5. MÔ PHỎNG QUY TRÌNH LLM\n",
    "print(\"5. MÔ PHỎNG QUY TRÌNH LLM:\")\n",
    "print(\"\"\"\n",
    "   Bước 1: Chụp màn hình hiện tại\n",
    "   Bước 2: Gửi ảnh + prompt (\"Mở trình duyệt\") đến LLM\n",
    "   Bước 3: LLM trả về: \"Tôi sẽ nhấn Win+R, gõ 'chrome', nhấn Enter\"\n",
    "   Bước 4: PyAutoGUI thực thi các lệnh\n",
    "   Bước 5: Chụp màn hình lại để kiểm tra kết quả\n",
    "   Bước 6: Nếu chưa đúng, lặp lại từ Bước 2\n",
    "\"\"\")\n",
    "\n",
    "# 6. TÌM VÀ CLICK HÌNH ẢNH (Image Recognition - Optional)\n",
    "print(\"\\n6. TÌM HÌNH ẢNH TRÊN MÀN HÌNH:\")\n",
    "print(\"   → Để click chính xác, LLM có thể:\")\n",
    "print(\"   - Phân tích screenshot để tìm vị trí nút/icon\")\n",
    "print(\"   - Hoặc dùng pyautogui.locateOnScreen('button.png')\")\n",
    "print(\"   - Sau đó click vào tọa độ đó\")\n",
    "\n",
    "# Ví dụ (cần có file ảnh mẫu):\n",
    "# try:\n",
    "#     button_location = pyautogui.locateOnScreen('button.png', confidence=0.8)\n",
    "#     if button_location:\n",
    "#         pyautogui.click(button_location)\n",
    "#         print(\"   ✓ Đã tìm và click!\")\n",
    "# except:\n",
    "#     print(\"   × Không tìm thấy hình ảnh\")\n",
    "\n",
    "print(\"\\n=== KẾT THÚC DEMO ===\")\n",
    "print(\"\\nLưu ý:\")\n",
    "print(\"- Có thể dừng bất kỳ lúc nào bằng cách đưa chuột vào góc màn hình\")\n",
    "print(\"- Trong thực tế, LLM sẽ tự động phân tích và quyết định các bước\")\n",
    "print(\"- Chi phí: ~$0.0005-$0.002 mỗi lần gọi LLM\")"
   ]
  },
  {
   "cell_type": "code",
   "execution_count": null,
   "id": "19aafd28",
   "metadata": {
    "vscode": {
     "languageId": "plaintext"
    }
   },
   "outputs": [],
   "source": []
  },
  {
   "cell_type": "code",
   "execution_count": null,
   "id": "6b309b1c",
   "metadata": {
    "vscode": {
     "languageId": "plaintext"
    }
   },
   "outputs": [],
   "source": []
  },
  {
   "cell_type": "code",
   "execution_count": null,
   "id": "6fae0ad4",
   "metadata": {
    "vscode": {
     "languageId": "plaintext"
    }
   },
   "outputs": [],
   "source": []
  },
  {
   "cell_type": "code",
   "execution_count": null,
   "id": "07b95892",
   "metadata": {
    "vscode": {
     "languageId": "plaintext"
    }
   },
   "outputs": [],
   "source": []
  },
  {
   "cell_type": "code",
   "execution_count": null,
   "id": "7109df82",
   "metadata": {
    "vscode": {
     "languageId": "plaintext"
    }
   },
   "outputs": [],
   "source": []
  }
 ],
 "metadata": {
  "language_info": {
   "name": "python"
  }
 },
 "nbformat": 4,
 "nbformat_minor": 5
}
